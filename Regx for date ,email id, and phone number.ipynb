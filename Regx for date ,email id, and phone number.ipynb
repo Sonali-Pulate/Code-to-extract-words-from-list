{
 "cells": [
  {
   "cell_type": "code",
   "execution_count": 1,
   "id": "7319f0ee",
   "metadata": {},
   "outputs": [],
   "source": [
    "#Regx for Date-\n",
    "import re, datetime\n"
   ]
  },
  {
   "cell_type": "code",
   "execution_count": 2,
   "id": "4bea2b8c",
   "metadata": {},
   "outputs": [],
   "source": [
    "str = \"My Date of Birth is 2006-11-12\""
   ]
  },
  {
   "cell_type": "code",
   "execution_count": 3,
   "id": "f59b4280",
   "metadata": {},
   "outputs": [],
   "source": [
    "pattern='\\d{4}-\\d{2}-\\d{2}'"
   ]
  },
  {
   "cell_type": "code",
   "execution_count": 4,
   "id": "77de4c70",
   "metadata": {},
   "outputs": [
    {
     "data": {
      "text/plain": [
       "['2006-11-12']"
      ]
     },
     "execution_count": 4,
     "metadata": {},
     "output_type": "execute_result"
    }
   ],
   "source": [
    "re.findall(pattern,str)"
   ]
  },
  {
   "cell_type": "code",
   "execution_count": 19,
   "id": "3c178f2f",
   "metadata": {},
   "outputs": [],
   "source": [
    "import re, datetime"
   ]
  },
  {
   "cell_type": "code",
   "execution_count": 20,
   "id": "da63032e",
   "metadata": {},
   "outputs": [],
   "source": [
    "s=\"I graduated from ZZZ college on 2019-10-02\""
   ]
  },
  {
   "cell_type": "code",
   "execution_count": 21,
   "id": "0a5e87c8",
   "metadata": {},
   "outputs": [
    {
     "data": {
      "text/plain": [
       "['2019-10-02']"
      ]
     },
     "execution_count": 21,
     "metadata": {},
     "output_type": "execute_result"
    }
   ],
   "source": [
    "pattern='\\d{4}-\\d{2}-\\d{2}'\n",
    "re.findall(pattern,s)"
   ]
  },
  {
   "cell_type": "code",
   "execution_count": 16,
   "id": "3088094a",
   "metadata": {},
   "outputs": [
    {
     "data": {
      "text/plain": [
       "['20-10-2002']"
      ]
     },
     "execution_count": 16,
     "metadata": {},
     "output_type": "execute_result"
    }
   ],
   "source": [
    "import re, datetime\n",
    "s=\"I graduated from ZZZ college on 20-10-2002\"\n",
    "pattern='\\d{2}-\\d{2}-\\d{4}'\n",
    "re.findall(pattern,s)"
   ]
  },
  {
   "cell_type": "code",
   "execution_count": 23,
   "id": "faf42019",
   "metadata": {},
   "outputs": [
    {
     "data": {
      "text/plain": [
       "<re.Match object; span=(20, 30), match='2006-11-12'>"
      ]
     },
     "execution_count": 23,
     "metadata": {},
     "output_type": "execute_result"
    }
   ],
   "source": [
    "import re, datetime\n",
    "str = \"My Date of Birth is 2006-11-12\"\n",
    "pattern='\\d{4}-\\d{2}-\\d{2}'\n",
    "re.search(pattern,str)"
   ]
  },
  {
   "cell_type": "code",
   "execution_count": 26,
   "id": "5159782b",
   "metadata": {},
   "outputs": [
    {
     "data": {
      "text/plain": [
       "<re.Match object; span=(22, 32), match='20-10-2012'>"
      ]
     },
     "execution_count": 26,
     "metadata": {},
     "output_type": "execute_result"
    }
   ],
   "source": [
    "import re, datetime\n",
    "str = \"john Date of Birth is 20-10-2012\"\n",
    "pattern='\\d{2}-\\d{2}-\\d{4}'\n",
    "re.search(pattern,str)"
   ]
  },
  {
   "cell_type": "code",
   "execution_count": 29,
   "id": "c02e2a70",
   "metadata": {},
   "outputs": [
    {
     "data": {
      "text/plain": [
       "<re.Match object; span=(22, 32), match='20-10-2012'>"
      ]
     },
     "execution_count": 29,
     "metadata": {},
     "output_type": "execute_result"
    }
   ],
   "source": [
    "import re, datetime\n",
    "str = \"john Date of Birth is 20-10-2012\"\n",
    "pattern='\\w{2}-\\w{2}-\\w{4}'\n",
    "re.search(pattern,str)"
   ]
  },
  {
   "cell_type": "code",
   "execution_count": 30,
   "id": "7f07c845",
   "metadata": {},
   "outputs": [
    {
     "data": {
      "text/plain": [
       "<re.Match object; span=(22, 32), match='20-10-2012'>"
      ]
     },
     "execution_count": 30,
     "metadata": {},
     "output_type": "execute_result"
    }
   ],
   "source": [
    "import re, datetime\n",
    "str = \"john Date of Birth is 20-10-2012\"\n",
    "pattern='\\S{2}-\\S{2}-\\S{4}'\n",
    "re.search(pattern,str)"
   ]
  },
  {
   "cell_type": "code",
   "execution_count": 35,
   "id": "46ec3bc9",
   "metadata": {},
   "outputs": [
    {
     "data": {
      "text/plain": [
       "['20-10-2002', '20-11-2012']"
      ]
     },
     "execution_count": 35,
     "metadata": {},
     "output_type": "execute_result"
    }
   ],
   "source": [
    "import re, datetime\n",
    "s=\"I graduated from ZZZ college on 20-10-2002 and john Date of Birth is 20-11-2012\"\n",
    "pattern='\\d{2}-\\d{2}-\\d{4}'\n",
    "re.findall(pattern,s)"
   ]
  },
  {
   "cell_type": "code",
   "execution_count": 38,
   "id": "15e5a6a7",
   "metadata": {},
   "outputs": [],
   "source": [
    "#Regx for mail-ID- (pattern-r\"^\\S+@\\S+\\.\\S+\")"
   ]
  },
  {
   "cell_type": "code",
   "execution_count": 46,
   "id": "aeb454b1",
   "metadata": {},
   "outputs": [],
   "source": [
    "import re\n",
    "s= \"You can reach me out akhil.singh@gmail.com\"\n",
    "pattern = r\"\\S+@\\S+\\.\\S+\""
   ]
  },
  {
   "cell_type": "code",
   "execution_count": 48,
   "id": "e802980b",
   "metadata": {},
   "outputs": [
    {
     "data": {
      "text/plain": [
       "['akhil.singh@gmail.com']"
      ]
     },
     "execution_count": 48,
     "metadata": {},
     "output_type": "execute_result"
    }
   ],
   "source": [
    "re.findall(pattern,s)"
   ]
  },
  {
   "cell_type": "code",
   "execution_count": 50,
   "id": "a5cc9957",
   "metadata": {},
   "outputs": [],
   "source": [
    "import re\n",
    "s= \"You can mail me pranav.mistra@yahoo.com\"\n",
    "pattern = r\"\\S+@\\S+\\.\\S+\""
   ]
  },
  {
   "cell_type": "code",
   "execution_count": 51,
   "id": "473d3e13",
   "metadata": {},
   "outputs": [
    {
     "data": {
      "text/plain": [
       "['pranav.mistra@yahoo.com']"
      ]
     },
     "execution_count": 51,
     "metadata": {},
     "output_type": "execute_result"
    }
   ],
   "source": [
    "re.findall(pattern,s)"
   ]
  },
  {
   "cell_type": "code",
   "execution_count": 100,
   "id": "6d11daf1",
   "metadata": {},
   "outputs": [],
   "source": [
    "import re\n",
    "s= \"You can mail me pranav.mistra@yahoo.com\"\n",
    "pattern = r\"\\S+@\\S+\\.\\S+\""
   ]
  },
  {
   "cell_type": "code",
   "execution_count": 101,
   "id": "30c7bebb",
   "metadata": {},
   "outputs": [
    {
     "data": {
      "text/plain": [
       "<re.Match object; span=(16, 39), match='pranav.mistra@yahoo.com'>"
      ]
     },
     "execution_count": 101,
     "metadata": {},
     "output_type": "execute_result"
    }
   ],
   "source": [
    "re.search(pattern,s)"
   ]
  },
  {
   "cell_type": "code",
   "execution_count": 54,
   "id": "302372ee",
   "metadata": {},
   "outputs": [],
   "source": [
    "import re\n",
    "s= \"You can mail me pranav.mistra@yahoo.com\"\n",
    "pattern = r\"\\w+@\\w+\\.\\w+\""
   ]
  },
  {
   "cell_type": "code",
   "execution_count": 55,
   "id": "79988eb3",
   "metadata": {},
   "outputs": [
    {
     "data": {
      "text/plain": [
       "['mistra@yahoo.com']"
      ]
     },
     "execution_count": 55,
     "metadata": {},
     "output_type": "execute_result"
    }
   ],
   "source": [
    "re.findall(pattern,s)"
   ]
  },
  {
   "cell_type": "code",
   "execution_count": 68,
   "id": "b046e4cf",
   "metadata": {},
   "outputs": [],
   "source": [
    "import re\n",
    "s= \"You can mail me pranav.mistra@yahoo.com\"\n",
    "pattern = r\"\\w+@\\w+\\.\\w+\""
   ]
  },
  {
   "cell_type": "code",
   "execution_count": 69,
   "id": "a1ced179",
   "metadata": {},
   "outputs": [
    {
     "data": {
      "text/plain": [
       "<re.Match object; span=(23, 39), match='mistra@yahoo.com'>"
      ]
     },
     "execution_count": 69,
     "metadata": {},
     "output_type": "execute_result"
    }
   ],
   "source": [
    "re.search(pattern,s)"
   ]
  },
  {
   "cell_type": "code",
   "execution_count": 70,
   "id": "309bc903",
   "metadata": {},
   "outputs": [],
   "source": [
    "import re\n",
    "s= \"You can mail me pranav.mistra@yahoo.com\"\n",
    "pattern = r\"\\D+@\\D+\\.\\D+\""
   ]
  },
  {
   "cell_type": "code",
   "execution_count": 71,
   "id": "d69e0080",
   "metadata": {},
   "outputs": [
    {
     "data": {
      "text/plain": [
       "<re.Match object; span=(0, 39), match='You can mail me pranav.mistra@yahoo.com'>"
      ]
     },
     "execution_count": 71,
     "metadata": {},
     "output_type": "execute_result"
    }
   ],
   "source": [
    "re.search(pattern,s)"
   ]
  },
  {
   "cell_type": "code",
   "execution_count": 72,
   "id": "a9d3be45",
   "metadata": {},
   "outputs": [],
   "source": [
    "import re\n",
    "s= \"You can mail me pranav.mistra@yahoo.com\"\n",
    "pattern = r\"\\D+@\\D+\\.\\D+\""
   ]
  },
  {
   "cell_type": "code",
   "execution_count": 73,
   "id": "8d748403",
   "metadata": {},
   "outputs": [
    {
     "data": {
      "text/plain": [
       "['You can mail me pranav.mistra@yahoo.com']"
      ]
     },
     "execution_count": 73,
     "metadata": {},
     "output_type": "execute_result"
    }
   ],
   "source": [
    "re.findall(pattern,s)"
   ]
  },
  {
   "cell_type": "code",
   "execution_count": 74,
   "id": "def67cda",
   "metadata": {},
   "outputs": [],
   "source": [
    "#Regx for phone number-"
   ]
  },
  {
   "cell_type": "code",
   "execution_count": 78,
   "id": "060c92b0",
   "metadata": {},
   "outputs": [],
   "source": [
    "import re\n",
    "s=\"My phone number is 3344556677\""
   ]
  },
  {
   "cell_type": "code",
   "execution_count": 77,
   "id": "28a81cf1",
   "metadata": {},
   "outputs": [
    {
     "data": {
      "text/plain": [
       "['3344556677']"
      ]
     },
     "execution_count": 77,
     "metadata": {},
     "output_type": "execute_result"
    }
   ],
   "source": [
    "pattern=r'\\d\\d\\d\\d\\d\\d\\d\\d\\d\\d'\n",
    "re.findall(pattern,s)"
   ]
  },
  {
   "cell_type": "code",
   "execution_count": 80,
   "id": "768ee1e3",
   "metadata": {},
   "outputs": [
    {
     "data": {
      "text/plain": [
       "['3344556677']"
      ]
     },
     "execution_count": 80,
     "metadata": {},
     "output_type": "execute_result"
    }
   ],
   "source": [
    "import re\n",
    "s=\"My phone number is 3344556677\"\n",
    "pattern='\\d+'\n",
    "re.findall(pattern,s)"
   ]
  },
  {
   "cell_type": "code",
   "execution_count": 82,
   "id": "42ecf457",
   "metadata": {},
   "outputs": [
    {
     "data": {
      "text/plain": [
       "<re.Match object; span=(19, 29), match='3344556677'>"
      ]
     },
     "execution_count": 82,
     "metadata": {},
     "output_type": "execute_result"
    }
   ],
   "source": [
    "import re\n",
    "s=\"My phone number is 3344556677\"\n",
    "pattern='\\d+'\n",
    "re.search(pattern,s)\n"
   ]
  },
  {
   "cell_type": "code",
   "execution_count": 84,
   "id": "bb939cab",
   "metadata": {},
   "outputs": [
    {
     "data": {
      "text/plain": [
       "<re.Match object; span=(0, 19), match='My phone number is '>"
      ]
     },
     "execution_count": 84,
     "metadata": {},
     "output_type": "execute_result"
    }
   ],
   "source": [
    "import re\n",
    "s=\"My phone number is 3344556677\"\n",
    "pattern='\\D+'\n",
    "re.search(pattern,s)\n"
   ]
  },
  {
   "cell_type": "code",
   "execution_count": 86,
   "id": "4803b859",
   "metadata": {},
   "outputs": [
    {
     "data": {
      "text/plain": [
       "['My phone number is ']"
      ]
     },
     "execution_count": 86,
     "metadata": {},
     "output_type": "execute_result"
    }
   ],
   "source": [
    "import re\n",
    "s=\"My phone number is 3344556677\"\n",
    "pattern='\\D+'\n",
    "re.findall(pattern,s)\n"
   ]
  },
  {
   "cell_type": "code",
   "execution_count": 88,
   "id": "05edb23a",
   "metadata": {},
   "outputs": [
    {
     "data": {
      "text/plain": [
       "['My', 'phone', 'number', 'is', '3344556677']"
      ]
     },
     "execution_count": 88,
     "metadata": {},
     "output_type": "execute_result"
    }
   ],
   "source": [
    "import re\n",
    "s=\"My phone number is 3344556677\"\n",
    "pattern='\\S+'\n",
    "re.findall(pattern,s)\n"
   ]
  },
  {
   "cell_type": "code",
   "execution_count": 89,
   "id": "469b30dc",
   "metadata": {},
   "outputs": [
    {
     "data": {
      "text/plain": [
       "<re.Match object; span=(0, 2), match='My'>"
      ]
     },
     "execution_count": 89,
     "metadata": {},
     "output_type": "execute_result"
    }
   ],
   "source": [
    "import re\n",
    "s=\"My phone number is 3344556677\"\n",
    "pattern='\\S+'\n",
    "re.search(pattern,s)\n"
   ]
  },
  {
   "cell_type": "code",
   "execution_count": 90,
   "id": "d49a0304",
   "metadata": {},
   "outputs": [
    {
     "data": {
      "text/plain": [
       "<re.Match object; span=(2, 3), match=' '>"
      ]
     },
     "execution_count": 90,
     "metadata": {},
     "output_type": "execute_result"
    }
   ],
   "source": [
    "import re\n",
    "s=\"My phone number is 3344556677\"\n",
    "pattern='\\s+'\n",
    "re.search(pattern,s)\n"
   ]
  },
  {
   "cell_type": "code",
   "execution_count": 91,
   "id": "dbbebd7e",
   "metadata": {},
   "outputs": [
    {
     "data": {
      "text/plain": [
       "[' ', ' ', ' ', ' ']"
      ]
     },
     "execution_count": 91,
     "metadata": {},
     "output_type": "execute_result"
    }
   ],
   "source": [
    "import re\n",
    "s=\"My phone number is 3344556677\"\n",
    "pattern='\\s+'\n",
    "re.findall(pattern,s)\n"
   ]
  },
  {
   "cell_type": "code",
   "execution_count": 92,
   "id": "9eba0cf0",
   "metadata": {},
   "outputs": [
    {
     "data": {
      "text/plain": [
       "['My', 'phone', 'number', 'is', '3344556677']"
      ]
     },
     "execution_count": 92,
     "metadata": {},
     "output_type": "execute_result"
    }
   ],
   "source": [
    "import re\n",
    "s=\"My phone number is 3344556677\"\n",
    "pattern='\\w+'\n",
    "re.findall(pattern,s)"
   ]
  },
  {
   "cell_type": "code",
   "execution_count": 93,
   "id": "ef890989",
   "metadata": {},
   "outputs": [
    {
     "data": {
      "text/plain": [
       "<re.Match object; span=(0, 2), match='My'>"
      ]
     },
     "execution_count": 93,
     "metadata": {},
     "output_type": "execute_result"
    }
   ],
   "source": [
    "import re\n",
    "s=\"My phone number is 3344556677\"\n",
    "pattern='\\w+'\n",
    "re.search(pattern,s)"
   ]
  },
  {
   "cell_type": "code",
   "execution_count": 95,
   "id": "49d3ba28",
   "metadata": {},
   "outputs": [
    {
     "data": {
      "text/plain": [
       "<re.Match object; span=(19, 29), match='3344556677'>"
      ]
     },
     "execution_count": 95,
     "metadata": {},
     "output_type": "execute_result"
    }
   ],
   "source": [
    "import re\n",
    "s=\"My phone number is 3344556677 :\\n\"\n",
    "pattern='\\d+'\n",
    "re.search(pattern,s)"
   ]
  },
  {
   "cell_type": "code",
   "execution_count": 99,
   "id": "842b6d26",
   "metadata": {},
   "outputs": [
    {
     "data": {
      "text/plain": [
       "['3344556677']"
      ]
     },
     "execution_count": 99,
     "metadata": {},
     "output_type": "execute_result"
    }
   ],
   "source": [
    "import re\n",
    "s=\"My phone number is 3344556677 :\\n\"\n",
    "pattern='\\d+'\n",
    "re.findall(pattern,s)"
   ]
  },
  {
   "cell_type": "code",
   "execution_count": null,
   "id": "a965e919",
   "metadata": {},
   "outputs": [],
   "source": []
  }
 ],
 "metadata": {
  "kernelspec": {
   "display_name": "Python 3 (ipykernel)",
   "language": "python",
   "name": "python3"
  },
  "language_info": {
   "codemirror_mode": {
    "name": "ipython",
    "version": 3
   },
   "file_extension": ".py",
   "mimetype": "text/x-python",
   "name": "python",
   "nbconvert_exporter": "python",
   "pygments_lexer": "ipython3",
   "version": "3.9.12"
  }
 },
 "nbformat": 4,
 "nbformat_minor": 5
}
