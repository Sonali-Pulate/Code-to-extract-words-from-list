{
 "cells": [
  {
   "cell_type": "code",
   "execution_count": 8,
   "id": "45c50541",
   "metadata": {},
   "outputs": [
    {
     "name": "stdout",
     "output_type": "stream",
     "text": [
      "String from which word has to be searched is:\n",
      "I am a python programmer and I am writing this code for pythonforbeginners.com\n",
      "word to be extracted from string:\n",
      "writing\n",
      "Extracted word is:\n",
      "writing\n"
     ]
    }
   ],
   "source": [
    "search_string= \"I am a python programmer and I am writing this code for pythonforbeginners.com\"\n",
    "print(\"String from which word has to be searched is:\")\n",
    "print(search_string)\n",
    "print(\"word to be extracted from string:\")\n",
    "word=\"writing\"\n",
    "print(word)\n",
    "lword=len(word)\n",
    "extracted_string= search_string[34:34+lword]\n",
    "print(\"Extracted word is:\")\n",
    "print(extracted_string)"
   ]
  },
  {
   "cell_type": "code",
   "execution_count": null,
   "id": "ada6cb26",
   "metadata": {},
   "outputs": [],
   "source": []
  },
  {
   "cell_type": "code",
   "execution_count": null,
   "id": "25d207b6",
   "metadata": {},
   "outputs": [],
   "source": []
  },
  {
   "cell_type": "code",
   "execution_count": null,
   "id": "4a081f90",
   "metadata": {},
   "outputs": [],
   "source": []
  },
  {
   "cell_type": "code",
   "execution_count": null,
   "id": "deab24c9",
   "metadata": {},
   "outputs": [],
   "source": []
  },
  {
   "cell_type": "code",
   "execution_count": null,
   "id": "2abb5d7c",
   "metadata": {},
   "outputs": [],
   "source": []
  }
 ],
 "metadata": {
  "kernelspec": {
   "display_name": "Python 3 (ipykernel)",
   "language": "python",
   "name": "python3"
  },
  "language_info": {
   "codemirror_mode": {
    "name": "ipython",
    "version": 3
   },
   "file_extension": ".py",
   "mimetype": "text/x-python",
   "name": "python",
   "nbconvert_exporter": "python",
   "pygments_lexer": "ipython3",
   "version": "3.9.12"
  }
 },
 "nbformat": 4,
 "nbformat_minor": 5
}
