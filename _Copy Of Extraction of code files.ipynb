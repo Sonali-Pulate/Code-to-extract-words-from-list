{
 "cells": [
  {
   "cell_type": "code",
   "execution_count": 4,
   "id": "bdcc2546",
   "metadata": {},
   "outputs": [],
   "source": [
    "from rake_nltk import Rake\n"
   ]
  },
  {
   "cell_type": "code",
   "execution_count": 8,
   "id": "0ab3f850",
   "metadata": {},
   "outputs": [
    {
     "name": "stderr",
     "output_type": "stream",
     "text": [
      "[nltk_data] Downloading package stopwords to C:\\Users\\user.DESKTOP-\n",
      "[nltk_data]     OMQ89VA\\AppData\\Roaming\\nltk_data...\n",
      "[nltk_data]   Unzipping corpora\\stopwords.zip.\n"
     ]
    },
    {
     "data": {
      "text/plain": [
       "True"
      ]
     },
     "execution_count": 8,
     "metadata": {},
     "output_type": "execute_result"
    }
   ],
   "source": [
    "import nltk\n",
    "nltk.download('stopwords')\n",
    "  "
   ]
  },
  {
   "cell_type": "code",
   "execution_count": 12,
   "id": "2d3bc4ed",
   "metadata": {},
   "outputs": [
    {
     "name": "stderr",
     "output_type": "stream",
     "text": [
      "[nltk_data] Downloading package punkt to C:\\Users\\user.DESKTOP-\n",
      "[nltk_data]     OMQ89VA\\AppData\\Roaming\\nltk_data...\n",
      "[nltk_data]   Unzipping tokenizers\\punkt.zip.\n"
     ]
    },
    {
     "data": {
      "text/plain": [
       "True"
      ]
     },
     "execution_count": 12,
     "metadata": {},
     "output_type": "execute_result"
    }
   ],
   "source": [
    "import nltk\n",
    "nltk.download('punkt')"
   ]
  },
  {
   "cell_type": "code",
   "execution_count": 9,
   "id": "5f090e3d",
   "metadata": {},
   "outputs": [],
   "source": [
    "rake_nltk_var = Rake()"
   ]
  },
  {
   "cell_type": "code",
   "execution_count": 13,
   "id": "b230a425",
   "metadata": {},
   "outputs": [],
   "source": [
    "text = \"\"\" I am a programmer from India, and I am here to guide you \n",
    "with Data Science, Machine Learning, Python, and C++ for free. \n",
    "I hope you will learn a lot in your journey towards Coding, \n",
    "Machine Learning and Artificial Intelligence with me.\"\"\""
   ]
  },
  {
   "cell_type": "code",
   "execution_count": 14,
   "id": "801900c2",
   "metadata": {},
   "outputs": [
    {
     "name": "stdout",
     "output_type": "stream",
     "text": [
      "['journey towards coding', 'machine learning', 'machine learning', 'data science', 'c ++', 'artificial intelligence', 'python', 'programmer', 'lot', 'learn', 'india', 'hope', 'guide', 'free']\n"
     ]
    }
   ],
   "source": [
    "rake_nltk_var.extract_keywords_from_text(text)\n",
    "keyword_extracted = rake_nltk_var.get_ranked_phrases()\n",
    "print(keyword_extracted)"
   ]
  },
  {
   "cell_type": "code",
   "execution_count": 21,
   "id": "2a19308f",
   "metadata": {},
   "outputs": [],
   "source": [
    "import re"
   ]
  },
  {
   "cell_type": "code",
   "execution_count": 22,
   "id": "025fca04",
   "metadata": {},
   "outputs": [],
   "source": [
    "test_string = \"Geeksforgeeks,    is best @# Computer Science Portal.!!!\""
   ]
  },
  {
   "cell_type": "code",
   "execution_count": 23,
   "id": "22bbb3c5",
   "metadata": {},
   "outputs": [
    {
     "name": "stdout",
     "output_type": "stream",
     "text": [
      "The original string is : Geeksforgeeks,    is best @# Computer Science Portal.!!!\n"
     ]
    }
   ],
   "source": [
    "print (\"The original string is : \" +  test_string)"
   ]
  },
  {
   "cell_type": "code",
   "execution_count": 24,
   "id": "3053bec5",
   "metadata": {},
   "outputs": [],
   "source": [
    "#extract words from string\n",
    "res = re.findall(r'\\w+', test_string)\n",
    " "
   ]
  },
  {
   "cell_type": "code",
   "execution_count": 25,
   "id": "3dc22854",
   "metadata": {},
   "outputs": [
    {
     "name": "stdout",
     "output_type": "stream",
     "text": [
      "The list of words is : ['Geeksforgeeks', 'is', 'best', 'Computer', 'Science', 'Portal']\n"
     ]
    }
   ],
   "source": [
    "print (\"The list of words is : \" +  str(res))"
   ]
  },
  {
   "cell_type": "code",
   "execution_count": 26,
   "id": "70a4ce70",
   "metadata": {},
   "outputs": [],
   "source": [
    "test_string = 'g1trks4sst5'"
   ]
  },
  {
   "cell_type": "code",
   "execution_count": 27,
   "id": "73fd6776",
   "metadata": {},
   "outputs": [
    {
     "name": "stdout",
     "output_type": "stream",
     "text": [
      "The original string : g1trks4sst5\n"
     ]
    }
   ],
   "source": [
    "print(\"The original string : \" + test_string)"
   ]
  },
  {
   "cell_type": "code",
   "execution_count": 28,
   "id": "814a93dc",
   "metadata": {},
   "outputs": [],
   "source": [
    "res = ''.join(filter(lambda i: i.isdigit(), test_string))"
   ]
  },
  {
   "cell_type": "code",
   "execution_count": 29,
   "id": "e054df3d",
   "metadata": {},
   "outputs": [
    {
     "name": "stdout",
     "output_type": "stream",
     "text": [
      "The digits string is : 145\n"
     ]
    }
   ],
   "source": [
    "print(\"The digits string is : \" + str(res))"
   ]
  },
  {
   "cell_type": "code",
   "execution_count": 30,
   "id": "70b799b0",
   "metadata": {},
   "outputs": [],
   "source": [
    "import re "
   ]
  },
  {
   "cell_type": "code",
   "execution_count": 31,
   "id": "98904dcb",
   "metadata": {},
   "outputs": [],
   "source": [
    "text = \"Chennai is a beautiful city. It’s the capital of the state of Tamil Nadu. Chennai has an area close to 430 kilometer squares. Well chennai is not as large as mumbai which has an area of 603.4 kilometer squares. By road, Chennai is about 1500 kilometers away from Mumbai. Whereas, it is about 2200 kilometers away from Delhi, the capital of India.\""
   ]
  },
  {
   "cell_type": "code",
   "execution_count": 32,
   "id": "fc22ade9",
   "metadata": {},
   "outputs": [
    {
     "data": {
      "text/plain": [
       "['Chennai', 'Chennai', 'Chennai']"
      ]
     },
     "execution_count": 32,
     "metadata": {},
     "output_type": "execute_result"
    }
   ],
   "source": [
    "cities_record = 'Chennai'\n",
    "re.findall(cities_record, text)"
   ]
  },
  {
   "cell_type": "code",
   "execution_count": 33,
   "id": "55bbe9d5",
   "metadata": {},
   "outputs": [
    {
     "data": {
      "text/plain": [
       "['Chennai', 'Chennai', 'chennai', 'Chennai']"
      ]
     },
     "execution_count": 33,
     "metadata": {},
     "output_type": "execute_result"
    }
   ],
   "source": [
    "cities_record = 'Chennai'\n",
    "re.findall(cities_record, text, flags=re.IGNORECASE)"
   ]
  },
  {
   "cell_type": "code",
   "execution_count": 34,
   "id": "02fd1d06",
   "metadata": {},
   "outputs": [
    {
     "data": {
      "text/plain": [
       "['Chennai', 'Chennai', 'chennai', 'mumbai', 'Chennai', 'Mumbai']"
      ]
     },
     "execution_count": 34,
     "metadata": {},
     "output_type": "execute_result"
    }
   ],
   "source": [
    "cities_record = 'Chennai|Mumbai'\n",
    "re.findall(cities_record, text, flags=re.IGNORECASE)"
   ]
  },
  {
   "cell_type": "code",
   "execution_count": 35,
   "id": "ae65eaca",
   "metadata": {},
   "outputs": [],
   "source": [
    "text = \"\\\n",
    "Banana    1.051    48.25\\\n",
    "Apple     1.024   180.54\\\n",
    "Carrot    0.524    47.20\\\n",
    "Radish    0.251    27.14\\\n",
    "Tomato    0.508    41.05\""
   ]
  },
  {
   "cell_type": "code",
   "execution_count": 36,
   "id": "e8a03c40",
   "metadata": {},
   "outputs": [],
   "source": [
    "words_pattern = '[a-z]+'"
   ]
  },
  {
   "cell_type": "code",
   "execution_count": 37,
   "id": "3c4d54dc",
   "metadata": {},
   "outputs": [
    {
     "data": {
      "text/plain": [
       "['Banana', 'Apple', 'Carrot', 'Radish', 'Tomato']"
      ]
     },
     "execution_count": 37,
     "metadata": {},
     "output_type": "execute_result"
    }
   ],
   "source": [
    "re.findall(words_pattern, text, flags=re.IGNORECASE)"
   ]
  },
  {
   "cell_type": "code",
   "execution_count": 38,
   "id": "97356c04",
   "metadata": {},
   "outputs": [],
   "source": [
    "words_pattern = '[a-zA-Z]+'"
   ]
  },
  {
   "cell_type": "code",
   "execution_count": 39,
   "id": "7c0b909c",
   "metadata": {},
   "outputs": [],
   "source": [
    "comment = \"This is an great article @Bharath. You have explained the complex topic in a very simplistic manner. @Yashwant, you might find this article to be useful.\""
   ]
  },
  {
   "cell_type": "code",
   "execution_count": 40,
   "id": "2779e2c7",
   "metadata": {},
   "outputs": [],
   "source": [
    "username_pattern = '@([a-zA-Z]+)'"
   ]
  },
  {
   "cell_type": "code",
   "execution_count": 41,
   "id": "327da06b",
   "metadata": {},
   "outputs": [
    {
     "data": {
      "text/plain": [
       "['Bharath', 'Yashwant']"
      ]
     },
     "execution_count": 41,
     "metadata": {},
     "output_type": "execute_result"
    }
   ],
   "source": [
    "re.findall('@([a-zA-Z]+)', comment)"
   ]
  },
  {
   "cell_type": "code",
   "execution_count": 42,
   "id": "8ed411c1",
   "metadata": {},
   "outputs": [
    {
     "data": {
      "text/plain": [
       "['@Bharath', '@Yashwant']"
      ]
     },
     "execution_count": 42,
     "metadata": {},
     "output_type": "execute_result"
    }
   ],
   "source": [
    "re.findall('@[a-zA-Z]+', comment)"
   ]
  },
  {
   "cell_type": "code",
   "execution_count": 44,
   "id": "9feba258",
   "metadata": {},
   "outputs": [
    {
     "name": "stdout",
     "output_type": "stream",
     "text": [
      "BuckyBarnes\n"
     ]
    }
   ],
   "source": [
    "import re\n",
    "# string with letters, numbers, and special characters\n",
    "s = \"BuckyBarnes@123\"\n",
    "# keep only letters\n",
    "res = re.sub(r'[^a-zA-Z]', '', s)\n",
    "print(res)"
   ]
  },
  {
   "cell_type": "code",
   "execution_count": 45,
   "id": "ab32f61b",
   "metadata": {},
   "outputs": [],
   "source": [
    "import re"
   ]
  },
  {
   "cell_type": "code",
   "execution_count": 46,
   "id": "c44fbc29",
   "metadata": {},
   "outputs": [
    {
     "name": "stdout",
     "output_type": "stream",
     "text": [
      "['guru99']\n"
     ]
    }
   ],
   "source": [
    "import re\n",
    "xx = \"guru99,education is fun\"\n",
    "r1 = re.findall(r\"^\\w+\",xx)\n",
    "print(r1)"
   ]
  },
  {
   "cell_type": "code",
   "execution_count": 48,
   "id": "adb01f2e",
   "metadata": {},
   "outputs": [
    {
     "name": "stdout",
     "output_type": "stream",
     "text": [
      "['we', 'are', 'splitting', 'the', 'words']\n",
      "['', 'plit the word', '']\n"
     ]
    }
   ],
   "source": [
    "import re\n",
    "xx = \"guru99,education is fun\"\n",
    "r1 = re.findall(r\"^\\w+\", xx)\n",
    "print((re.split(r'\\s','we are splitting the words')))\n",
    "print((re.split(r's','split the words')))"
   ]
  },
  {
   "cell_type": "code",
   "execution_count": 49,
   "id": "c92be85d",
   "metadata": {},
   "outputs": [
    {
     "name": "stdout",
     "output_type": "stream",
     "text": [
      "Looking for \"software testing\" in \"software testing is fun?\" -> found a match!\n",
      "Looking for \"guru99\" in \"software testing is fun?\" -> no match\n",
      "guru99@google.com\n",
      "careerguru99@hotmail.com\n",
      "users@yahoomail.com\n"
     ]
    }
   ],
   "source": [
    "import re\n",
    "\n",
    "list = [\"guru99 get\", \"guru99 give\", \"guru Selenium\"]\n",
    "for element in list:\n",
    "    z = re.match(\"(g\\w+)\\W(g\\w+)\", element)\n",
    "if z:\n",
    "    print((z.groups()))\n",
    "    \n",
    "patterns = ['software testing', 'guru99']\n",
    "text = 'software testing is fun?'\n",
    "for pattern in patterns:\n",
    "    print('Looking for \"%s\" in \"%s\" ->' % (pattern, text), end=' ')\n",
    "    if re.search(pattern, text):\n",
    "        print('found a match!')\n",
    "else:\n",
    "    print('no match')\n",
    "abc = 'guru99@google.com, careerguru99@hotmail.com, users@yahoomail.com'\n",
    "emails = re.findall(r'[\\w\\.-]+@[\\w\\.-]+', abc)\n",
    "for email in emails:\n",
    "    print(email)"
   ]
  },
  {
   "cell_type": "code",
   "execution_count": null,
   "id": "54f0aa3e",
   "metadata": {},
   "outputs": [],
   "source": []
  }
 ],
 "metadata": {
  "kernelspec": {
   "display_name": "Python 3 (ipykernel)",
   "language": "python",
   "name": "python3"
  },
  "language_info": {
   "codemirror_mode": {
    "name": "ipython",
    "version": 3
   },
   "file_extension": ".py",
   "mimetype": "text/x-python",
   "name": "python",
   "nbconvert_exporter": "python",
   "pygments_lexer": "ipython3",
   "version": "3.9.12"
  }
 },
 "nbformat": 4,
 "nbformat_minor": 5
}
