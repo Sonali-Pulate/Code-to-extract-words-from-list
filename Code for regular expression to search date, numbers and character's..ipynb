{
 "cells": [
  {
   "cell_type": "code",
   "execution_count": 1,
   "id": "63afdcb4",
   "metadata": {},
   "outputs": [
    {
     "name": "stdout",
     "output_type": "stream",
     "text": [
      "2002-07-28\n"
     ]
    }
   ],
   "source": [
    "#Date pattern  for regular expression_\n",
    "import datetime\n",
    "from datetime import date\n",
    "import re\n",
    "s = \"Ram's birthday is on 2002-07-28\"\n",
    "match = re.search(r'\\d{4}-\\d{2}-\\d{2}', s)\n",
    "date = datetime.datetime.strptime(match.group(), '%Y-%m-%d').date()\n",
    "print (date)"
   ]
  },
  {
   "cell_type": "code",
   "execution_count": 2,
   "id": "741a10d0",
   "metadata": {},
   "outputs": [
    {
     "name": "stdout",
     "output_type": "stream",
     "text": [
      "The given string is\n",
      "My Date of Birth is 2006-11-12\n",
      "The date present in the string is\n",
      "2006-11-12\n"
     ]
    }
   ],
   "source": [
    "import re, datetime\n",
    "str1 = \"My Date of Birth is 2006-11-12\"\n",
    "\n",
    "print(\"The given string is\")\n",
    "print(str1)\n",
    "\n",
    "day = re.search('\\d{4}-\\d{2}-\\d{2}', str1)\n",
    "date = datetime.datetime.strptime(day.group(), '%Y-%m-%d').date()\n",
    "\n",
    "print(\"The date present in the string is\")\n",
    "print(date)"
   ]
  },
  {
   "cell_type": "code",
   "execution_count": 4,
   "id": "64d76796",
   "metadata": {},
   "outputs": [],
   "source": [
    "str = \"\"\"COBOL is a compiled English-like computer programming language designed for business use. 122. On 10/10/2015 is a big date unlike 1/11/2010 \"\"\"\n",
    "\n",
    "all = re.findall(r\"[\\d]{1,2}/[\\d]{1,2}/[\\d]{4}\", str)\n"
   ]
  },
  {
   "cell_type": "code",
   "execution_count": 5,
   "id": "646133b6",
   "metadata": {},
   "outputs": [
    {
     "name": "stdout",
     "output_type": "stream",
     "text": [
      "Jason's birthday is on 2002-07-28\n"
     ]
    }
   ],
   "source": [
    "print(s)"
   ]
  },
  {
   "cell_type": "code",
   "execution_count": 7,
   "id": "9b56d7ab",
   "metadata": {},
   "outputs": [],
   "source": [
    "#Search Number for regular expression_\n",
    "def getNumbers(str):\n",
    "    array = re.findall(r'[0-9]+', str)\n",
    "    return array\n",
    " "
   ]
  },
  {
   "cell_type": "code",
   "execution_count": 8,
   "id": "667c6704",
   "metadata": {},
   "outputs": [
    {
     "name": "stdout",
     "output_type": "stream",
     "text": [
      "345 43 42\n"
     ]
    }
   ],
   "source": [
    "str = \"adbv345hj43hvb42\"\n",
    "array = getNumbers(str)\n",
    "print(*array)"
   ]
  },
  {
   "cell_type": "code",
   "execution_count": 12,
   "id": "9c715be1",
   "metadata": {},
   "outputs": [
    {
     "name": "stdout",
     "output_type": "stream",
     "text": [
      "['12345', '41521', '78963', '85214']\n"
     ]
    }
   ],
   "source": [
    "import re\n",
    "s = \"Tim's phone numbers are 12345-41521 and 78963-85214\"\n",
    "match = re.findall(r'\\d{5}', s)\n",
    "\n",
    "if match:\n",
    "    print(match)"
   ]
  },
  {
   "cell_type": "code",
   "execution_count": 14,
   "id": "d952a448",
   "metadata": {},
   "outputs": [
    {
     "name": "stdout",
     "output_type": "stream",
     "text": [
      "[('12345', '41521'), ('78963', '85214')]\n",
      "\n",
      "('12345', '41521')\n",
      "First group 12345\n",
      "Second group 41521\n",
      "\n",
      "('78963', '85214')\n",
      "First group 78963\n",
      "Second group 85214\n"
     ]
    }
   ],
   "source": [
    "import re\n",
    "s = \"Raj's phone numbers are 12345-41521 and 78963-85214\"\n",
    "match = re.findall(r'(\\d{5})-(\\d{5})', s)\n",
    "print(match)\n",
    "\n",
    "for i in match:\n",
    "    print()\n",
    "    print(i)\n",
    "    print(\"First group\", i[0])\n",
    "    print(\"Second group\", i[1])"
   ]
  },
  {
   "cell_type": "code",
   "execution_count": 15,
   "id": "0193fc53",
   "metadata": {},
   "outputs": [
    {
     "name": "stdout",
     "output_type": "stream",
     "text": [
      "Enter a String with numbers: \n",
      "go to 34.2 miles\n",
      "['34', '2']\n"
     ]
    }
   ],
   "source": [
    "import re\n",
    "str=input(\"Enter a String with numbers: \\n\")\n",
    "#Create a list to hold the numbers\n",
    "num_list = re.findall(r'\\d+', str)\n",
    "print(num_list)"
   ]
  },
  {
   "cell_type": "code",
   "execution_count": 17,
   "id": "e5d75180",
   "metadata": {},
   "outputs": [
    {
     "name": "stdout",
     "output_type": "stream",
     "text": [
      "The original string : There are 2 apples for 4 persons\n"
     ]
    }
   ],
   "source": [
    "test_string = \"There are 2 apples for 4 persons\"\n",
    "print(\"The original string : \" + test_string)\n",
    "res = [int(i) for i in test_string.split() if i.isdigit()]"
   ]
  },
  {
   "cell_type": "code",
   "execution_count": 21,
   "id": "72304933",
   "metadata": {},
   "outputs": [
    {
     "ename": "TypeError",
     "evalue": "'str' object is not callable",
     "output_type": "error",
     "traceback": [
      "\u001b[1;31m---------------------------------------------------------------------------\u001b[0m",
      "\u001b[1;31mTypeError\u001b[0m                                 Traceback (most recent call last)",
      "Input \u001b[1;32mIn [21]\u001b[0m, in \u001b[0;36m<cell line: 1>\u001b[1;34m()\u001b[0m\n\u001b[1;32m----> 1\u001b[0m \u001b[38;5;28mprint\u001b[39m(\u001b[38;5;124m\"\u001b[39m\u001b[38;5;124mThe numbers list is : \u001b[39m\u001b[38;5;124m\"\u001b[39m \u001b[38;5;241m+\u001b[39m \u001b[38;5;28;43mstr\u001b[39;49m\u001b[43m(\u001b[49m\u001b[43mres\u001b[49m\u001b[43m)\u001b[49m)\n",
      "\u001b[1;31mTypeError\u001b[0m: 'str' object is not callable"
     ]
    }
   ],
   "source": [
    "print(\"The numbers list is : \" + str(res))"
   ]
  },
  {
   "cell_type": "code",
   "execution_count": null,
   "id": "2c854b34",
   "metadata": {},
   "outputs": [],
   "source": []
  },
  {
   "cell_type": "code",
   "execution_count": null,
   "id": "8f37e740",
   "metadata": {},
   "outputs": [],
   "source": []
  },
  {
   "cell_type": "code",
   "execution_count": null,
   "id": "9dc2bb7d",
   "metadata": {},
   "outputs": [],
   "source": []
  }
 ],
 "metadata": {
  "kernelspec": {
   "display_name": "Python 3 (ipykernel)",
   "language": "python",
   "name": "python3"
  },
  "language_info": {
   "codemirror_mode": {
    "name": "ipython",
    "version": 3
   },
   "file_extension": ".py",
   "mimetype": "text/x-python",
   "name": "python",
   "nbconvert_exporter": "python",
   "pygments_lexer": "ipython3",
   "version": "3.9.12"
  }
 },
 "nbformat": 4,
 "nbformat_minor": 5
}
