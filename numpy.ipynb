{
 "cells": [
  {
   "cell_type": "code",
   "execution_count": 3,
   "id": "52683553",
   "metadata": {},
   "outputs": [],
   "source": [
    "#numpy basic operation\n",
    "import numpy as np\n",
    "my_array = numpy.array([0, 1, 2, 3, 4])\n"
   ]
  },
  {
   "cell_type": "code",
   "execution_count": 3,
   "id": "369f0408",
   "metadata": {},
   "outputs": [
    {
     "name": "stdout",
     "output_type": "stream",
     "text": [
      "[0 1 2 3 4]\n"
     ]
    }
   ],
   "source": [
    "print(my_array)"
   ]
  },
  {
   "cell_type": "code",
   "execution_count": 5,
   "id": "707b0d6b",
   "metadata": {},
   "outputs": [],
   "source": [
    "import numpy as np\n",
    "my_array = numpy.array([0, 2,4,6])"
   ]
  },
  {
   "cell_type": "code",
   "execution_count": 6,
   "id": "994bf58d",
   "metadata": {},
   "outputs": [
    {
     "name": "stdout",
     "output_type": "stream",
     "text": [
      "[0 2 4 6]\n"
     ]
    }
   ],
   "source": [
    "print (my_array)"
   ]
  },
  {
   "cell_type": "code",
   "execution_count": 7,
   "id": "ecc5bb5e",
   "metadata": {},
   "outputs": [
    {
     "name": "stdout",
     "output_type": "stream",
     "text": [
      "[1, 2, 3, 4]\n"
     ]
    }
   ],
   "source": [
    "import numpy as np\n",
    "\n",
    "a_list = [1, 2, 3, 4]\n",
    "print(a_list)"
   ]
  },
  {
   "cell_type": "code",
   "execution_count": 8,
   "id": "40991031",
   "metadata": {},
   "outputs": [
    {
     "name": "stdout",
     "output_type": "stream",
     "text": [
      "[5 7 9]\n"
     ]
    }
   ],
   "source": [
    "import numpy as np\n",
    "\n",
    "array_A = np.array([1, 2, 3])\n",
    "array_B = np.array([4, 5, 6])\n",
    "\n",
    "print(array_A + array_B)"
   ]
  },
  {
   "cell_type": "code",
   "execution_count": 20,
   "id": "8fa42c12",
   "metadata": {},
   "outputs": [
    {
     "name": "stdout",
     "output_type": "stream",
     "text": [
      "Apr\n"
     ]
    }
   ],
   "source": [
    "import numpy as np\n",
    "\n",
    "months_array = np.array(['Jan', 'Feb', 'March', 'Apr', 'May'])\n",
    "print(months_array[3])"
   ]
  },
  {
   "cell_type": "code",
   "execution_count": 22,
   "id": "f8ca26d3",
   "metadata": {},
   "outputs": [
    {
     "name": "stdout",
     "output_type": "stream",
     "text": [
      "May\n"
     ]
    }
   ],
   "source": [
    "print(months_array[4])"
   ]
  },
  {
   "cell_type": "code",
   "execution_count": 8,
   "id": "8455459a",
   "metadata": {},
   "outputs": [
    {
     "name": "stdout",
     "output_type": "stream",
     "text": [
      "[170.12  93.29  55.28 145.3  171.81  59.5  100.5 ]\n",
      "[ 9.2   5.31  2.41  5.91 15.42  2.51  6.79]\n"
     ]
    }
   ],
   "source": [
    "# IMPORT numpy as np\n",
    "import numpy as np\n",
    "\n",
    "# Lists\n",
    "prices = [170.12, 93.29, 55.28, 145.30, 171.81, 59.50, 100.50]\n",
    "earnings = [9.2, 5.31, 2.41, 5.91, 15.42, 2.51, 6.79]\n",
    "\n",
    "# NumPy arrays\n",
    "prices_array = np.array(prices)\n",
    "earnings_array = np.array(earnings)\n",
    "\n",
    "# Print the arrays\n",
    "print(prices_array)\n",
    "print(earnings_array)\n",
    "\n"
   ]
  },
  {
   "cell_type": "code",
   "execution_count": 9,
   "id": "8ede1d26",
   "metadata": {},
   "outputs": [],
   "source": [
    "# single dimensional array-"
   ]
  },
  {
   "cell_type": "code",
   "execution_count": 10,
   "id": "8b33fe7e",
   "metadata": {},
   "outputs": [
    {
     "name": "stdout",
     "output_type": "stream",
     "text": [
      "[1 2 3]\n"
     ]
    }
   ],
   "source": [
    "\n",
    "import numpy as np\n",
    "a=np.array([1,2,3])\n",
    "print(a)"
   ]
  },
  {
   "cell_type": "code",
   "execution_count": 11,
   "id": "4e7b7b6e",
   "metadata": {},
   "outputs": [],
   "source": [
    "# multi dimensional array-"
   ]
  },
  {
   "cell_type": "code",
   "execution_count": 12,
   "id": "554e0a7c",
   "metadata": {},
   "outputs": [
    {
     "name": "stdout",
     "output_type": "stream",
     "text": [
      "[[1 2 3]\n",
      " [4 5 6]]\n"
     ]
    }
   ],
   "source": [
    "a=np.array([(1,2,3),(4,5,6)])\n",
    "print(a)"
   ]
  },
  {
   "cell_type": "code",
   "execution_count": 13,
   "id": "8be6f3fe",
   "metadata": {},
   "outputs": [
    {
     "name": "stdout",
     "output_type": "stream",
     "text": [
      "[ 9 10 11 12]\n"
     ]
    }
   ],
   "source": [
    "import numpy as np\n",
    " \n",
    "a = np.array([[1, 2, 3, 4], [5, 6, 7, 8], [9, 10, 11, 12]])\n",
    " \n",
    "print(a[2])"
   ]
  },
  {
   "cell_type": "code",
   "execution_count": 14,
   "id": "40a935e1",
   "metadata": {},
   "outputs": [
    {
     "name": "stdout",
     "output_type": "stream",
     "text": [
      "[1 2 3 4 6]\n"
     ]
    }
   ],
   "source": [
    "import numpy as np\n",
    "arr = np.array([1, 2, 3, 4, 6])\n",
    "print(arr)"
   ]
  },
  {
   "cell_type": "code",
   "execution_count": 15,
   "id": "936013fb",
   "metadata": {},
   "outputs": [
    {
     "name": "stdout",
     "output_type": "stream",
     "text": [
      "6\n"
     ]
    }
   ],
   "source": [
    "import numpy as np\n",
    "a = np.array([1, 2, 3, 4, 5, 6])\n",
    "print(a[5])\n"
   ]
  },
  {
   "cell_type": "code",
   "execution_count": 1,
   "id": "bcb7f51f",
   "metadata": {},
   "outputs": [],
   "source": [
    "#numpy.sort( )\n",
    "import numpy as np\n",
    "\n",
    "array = np.array([\n",
    "    [3, 7, 1],\n",
    "    [10, 3, 2],\n",
    "    [5, 6, 7]\n",
    "])"
   ]
  },
  {
   "cell_type": "code",
   "execution_count": 2,
   "id": "6d2be525",
   "metadata": {},
   "outputs": [
    {
     "name": "stdout",
     "output_type": "stream",
     "text": [
      "[[ 3  7  1]\n",
      " [10  3  2]\n",
      " [ 5  6  7]]\n",
      "\n"
     ]
    }
   ],
   "source": [
    "print(array)\n",
    "print()"
   ]
  },
  {
   "cell_type": "code",
   "execution_count": 3,
   "id": "a2266dc0",
   "metadata": {},
   "outputs": [
    {
     "name": "stdout",
     "output_type": "stream",
     "text": [
      "[ 1  2  3  3  5  6  7  7 10]\n"
     ]
    }
   ],
   "source": [
    "# Sort the whole array\n",
    "print(np.sort(array, axis=None))"
   ]
  },
  {
   "cell_type": "code",
   "execution_count": 4,
   "id": "a6333592",
   "metadata": {},
   "outputs": [
    {
     "name": "stdout",
     "output_type": "stream",
     "text": [
      "[[ 1  3  7]\n",
      " [ 2  3 10]\n",
      " [ 5  6  7]]\n"
     ]
    }
   ],
   "source": [
    "# Sort along each row\n",
    "print(np.sort(array, axis=1))"
   ]
  },
  {
   "cell_type": "code",
   "execution_count": 5,
   "id": "3bdbcbc2",
   "metadata": {},
   "outputs": [
    {
     "name": "stdout",
     "output_type": "stream",
     "text": [
      "[[ 1  3  7]\n",
      " [ 2  3 10]\n",
      " [ 5  6  7]]\n"
     ]
    }
   ],
   "source": [
    "# Sort along each row\n",
    "print(np.sort(array, axis=1))"
   ]
  },
  {
   "cell_type": "code",
   "execution_count": 6,
   "id": "a87adf69",
   "metadata": {},
   "outputs": [],
   "source": [
    "#Using np.mean( )\n",
    "import numpy as np\n",
    "\n",
    "list = [\n",
    "    np.array([3, 2, 8, 9]),\n",
    "    np.array([4, 12, 34, 25, 78]),\n",
    "    np.array([23, 12, 67])\n",
    "]"
   ]
  },
  {
   "cell_type": "code",
   "execution_count": 7,
   "id": "d9275a6e",
   "metadata": {},
   "outputs": [],
   "source": [
    "result = []\n",
    "for i in range(len(list)):\n",
    "    result.append(np.mean(list[i]))"
   ]
  },
  {
   "cell_type": "code",
   "execution_count": 8,
   "id": "ad1c5253",
   "metadata": {},
   "outputs": [
    {
     "name": "stdout",
     "output_type": "stream",
     "text": [
      "[5.5, 30.6, 34.0]\n"
     ]
    }
   ],
   "source": [
    "print(result)"
   ]
  },
  {
   "cell_type": "code",
   "execution_count": 9,
   "id": "8173802c",
   "metadata": {},
   "outputs": [],
   "source": [
    "#Adding Row using numpy.vstack( )\n",
    "import numpy as np\n",
    "\n",
    "array = np.array([\n",
    "    [3, 2, 8],\n",
    "    [4, 12, 34],\n",
    "    [23, 12, 67]\n",
    "])"
   ]
  },
  {
   "cell_type": "code",
   "execution_count": 10,
   "id": "f1cd9541",
   "metadata": {},
   "outputs": [
    {
     "name": "stdout",
     "output_type": "stream",
     "text": [
      "[[ 3  2  8]\n",
      " [ 4 12 34]\n",
      " [23 12 67]\n",
      " [ 2  1  8]]\n"
     ]
    }
   ],
   "source": [
    "newRow = np.array([2, 1, 8])\n",
    "newArray = np.vstack((array, newRow))\n",
    "print(newArray)"
   ]
  },
  {
   "cell_type": "code",
   "execution_count": 11,
   "id": "8228d519",
   "metadata": {},
   "outputs": [],
   "source": [
    "#Adding Column using numpy.column_stack( )\n",
    "import numpy as np\n",
    "\n",
    "array = np.array([\n",
    "    [3, 2, 8],\n",
    "    [4, 12, 34],\n",
    "    [23, 12, 67]\n",
    "])"
   ]
  },
  {
   "cell_type": "code",
   "execution_count": 13,
   "id": "034e5744",
   "metadata": {},
   "outputs": [
    {
     "name": "stdout",
     "output_type": "stream",
     "text": [
      "[[ 3  2  8  2]\n",
      " [ 4 12 34  1]\n",
      " [23 12 67  8]]\n"
     ]
    }
   ],
   "source": [
    "newColumn = np.array([2, 1, 8])\n",
    "newArray = np.column_stack((array, newColumn))\n",
    "print(newArray)"
   ]
  },
  {
   "cell_type": "code",
   "execution_count": 14,
   "id": "c2755b7b",
   "metadata": {},
   "outputs": [],
   "source": [
    "#Using numpy.flipud( )\n",
    "import numpy as np\n",
    "\n",
    "array = np.array([3, 6, 7, 2, 5, 1, 8])\n",
    "reversedArray = np.flipud(array)"
   ]
  },
  {
   "cell_type": "code",
   "execution_count": 15,
   "id": "f527d5c3",
   "metadata": {},
   "outputs": [
    {
     "name": "stdout",
     "output_type": "stream",
     "text": [
      "[8 1 5 2 7 6 3]\n"
     ]
    }
   ],
   "source": [
    "print(reversedArray)"
   ]
  },
  {
   "cell_type": "code",
   "execution_count": 16,
   "id": "bd5c2037",
   "metadata": {},
   "outputs": [],
   "source": [
    "#Using numpy.dot( )\n",
    "import numpy as np\n",
    "\n",
    "matrix1 = [\n",
    "    [3, 4, 2],\n",
    "    [5, 1, 8],\n",
    "    [3, 1, 9]\n",
    "]\n",
    "\n",
    "matrix2 = [\n",
    "    [3, 7, 5],\n",
    "    [2, 9, 8],\n",
    "    [1, 5, 8]\n",
    "]\n"
   ]
  },
  {
   "cell_type": "code",
   "execution_count": 17,
   "id": "4bbb8052",
   "metadata": {},
   "outputs": [
    {
     "name": "stdout",
     "output_type": "stream",
     "text": [
      "[[19 67 63]\n",
      " [25 84 97]\n",
      " [20 75 95]]\n"
     ]
    }
   ],
   "source": [
    "result = np.dot(matrix1, matrix2)\n",
    "print(result)"
   ]
  },
  {
   "cell_type": "code",
   "execution_count": 18,
   "id": "81ec0396",
   "metadata": {},
   "outputs": [
    {
     "name": "stdout",
     "output_type": "stream",
     "text": [
      "int32\n"
     ]
    }
   ],
   "source": [
    "#Data type\n",
    "import numpy as np\n",
    "dt = np.dtype(np.int32)\n",
    "print (dt)"
   ]
  },
  {
   "cell_type": "code",
   "execution_count": 1,
   "id": "9f52e323",
   "metadata": {},
   "outputs": [
    {
     "name": "stdout",
     "output_type": "stream",
     "text": [
      "Collecting np\n",
      "  Downloading np-1.0.2.tar.gz (7.4 kB)\n",
      "  Preparing metadata (setup.py): started\n",
      "  Preparing metadata (setup.py): finished with status 'done'\n",
      "Building wheels for collected packages: np\n",
      "  Building wheel for np (setup.py): started\n",
      "  Building wheel for np (setup.py): finished with status 'done'\n",
      "  Created wheel for np: filename=np-1.0.2-py3-none-any.whl size=13676 sha256=db655c31155d64840448b00e2ab7b407c781e0973e547def9303f415facf0150\n",
      "  Stored in directory: c:\\users\\user.desktop-omq89va\\appdata\\local\\pip\\cache\\wheels\\07\\8e\\38\\47fc5b8c6f5d81676d9e662ccac43e20dd5a5ef57efada461b\n",
      "Successfully built np\n",
      "Installing collected packages: np\n",
      "Successfully installed np-1.0.2\n",
      "Note: you may need to restart the kernel to use updated packages.\n"
     ]
    },
    {
     "name": "stderr",
     "output_type": "stream",
     "text": [
      "\n",
      "[notice] A new release of pip is available: 23.1.2 -> 23.2.1\n",
      "[notice] To update, run: python.exe -m pip install --upgrade pip\n"
     ]
    }
   ],
   "source": [
    "pip install np"
   ]
  },
  {
   "cell_type": "code",
   "execution_count": null,
   "id": "d8b71f32",
   "metadata": {},
   "outputs": [],
   "source": []
  },
  {
   "cell_type": "code",
   "execution_count": null,
   "id": "af05f161",
   "metadata": {},
   "outputs": [],
   "source": []
  },
  {
   "cell_type": "code",
   "execution_count": null,
   "id": "ae7dc0a5",
   "metadata": {},
   "outputs": [],
   "source": []
  },
  {
   "cell_type": "code",
   "execution_count": null,
   "id": "c1fc90c1",
   "metadata": {},
   "outputs": [],
   "source": []
  },
  {
   "cell_type": "code",
   "execution_count": null,
   "id": "b20a11ae",
   "metadata": {},
   "outputs": [],
   "source": []
  },
  {
   "cell_type": "code",
   "execution_count": null,
   "id": "74ea2755",
   "metadata": {},
   "outputs": [],
   "source": []
  }
 ],
 "metadata": {
  "kernelspec": {
   "display_name": "Python 3 (ipykernel)",
   "language": "python",
   "name": "python3"
  },
  "language_info": {
   "codemirror_mode": {
    "name": "ipython",
    "version": 3
   },
   "file_extension": ".py",
   "mimetype": "text/x-python",
   "name": "python",
   "nbconvert_exporter": "python",
   "pygments_lexer": "ipython3",
   "version": "3.9.12"
  }
 },
 "nbformat": 4,
 "nbformat_minor": 5
}
